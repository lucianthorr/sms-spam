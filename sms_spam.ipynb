{
 "metadata": {
  "name": "",
  "signature": "sha256:91c8fa4fb6821c1a1e3cfe88c849cb719fc8f5b9cc87a171187f813b37db023a"
 },
 "nbformat": 3,
 "nbformat_minor": 0,
 "worksheets": [
  {
   "cells": [
    {
     "cell_type": "code",
     "collapsed": false,
     "input": [
      "import matplotlib.pyplot as plt\n",
      "import seaborn as sbs\n",
      "import numpy as np\n",
      "import pandas as pd\n",
      "from sklearn.cluster import KMeans\n",
      "from textblob import TextBlob\n",
      "from sklearn import metrics\n",
      "import re\n",
      "\n",
      "%matplotlib inline"
     ],
     "language": "python",
     "metadata": {},
     "outputs": [],
     "prompt_number": 664
    },
    {
     "cell_type": "code",
     "collapsed": false,
     "input": [
      "collection = pd.read_csv(\"smsspamcollection/SMSSpamCollection\",sep=\"\\t\",names=[\"ham/spam\",\"sms\"])"
     ],
     "language": "python",
     "metadata": {},
     "outputs": [],
     "prompt_number": 665
    },
    {
     "cell_type": "code",
     "collapsed": false,
     "input": [
      "collection.head()"
     ],
     "language": "python",
     "metadata": {},
     "outputs": [
      {
       "html": [
        "<div style=\"max-height:1000px;max-width:1500px;overflow:auto;\">\n",
        "<table border=\"1\" class=\"dataframe\">\n",
        "  <thead>\n",
        "    <tr style=\"text-align: right;\">\n",
        "      <th></th>\n",
        "      <th>ham/spam</th>\n",
        "      <th>sms</th>\n",
        "    </tr>\n",
        "  </thead>\n",
        "  <tbody>\n",
        "    <tr>\n",
        "      <th>0</th>\n",
        "      <td>  ham</td>\n",
        "      <td> Go until jurong point, crazy.. Available only ...</td>\n",
        "    </tr>\n",
        "    <tr>\n",
        "      <th>1</th>\n",
        "      <td>  ham</td>\n",
        "      <td>                     Ok lar... Joking wif u oni...</td>\n",
        "    </tr>\n",
        "    <tr>\n",
        "      <th>2</th>\n",
        "      <td> spam</td>\n",
        "      <td> Free entry in 2 a wkly comp to win FA Cup fina...</td>\n",
        "    </tr>\n",
        "    <tr>\n",
        "      <th>3</th>\n",
        "      <td>  ham</td>\n",
        "      <td> U dun say so early hor... U c already then say...</td>\n",
        "    </tr>\n",
        "    <tr>\n",
        "      <th>4</th>\n",
        "      <td>  ham</td>\n",
        "      <td> Nah I don't think he goes to usf, he lives aro...</td>\n",
        "    </tr>\n",
        "  </tbody>\n",
        "</table>\n",
        "</div>"
       ],
       "metadata": {},
       "output_type": "pyout",
       "prompt_number": 666,
       "text": [
        "  ham/spam                                                sms\n",
        "0      ham  Go until jurong point, crazy.. Available only ...\n",
        "1      ham                      Ok lar... Joking wif u oni...\n",
        "2     spam  Free entry in 2 a wkly comp to win FA Cup fina...\n",
        "3      ham  U dun say so early hor... U c already then say...\n",
        "4      ham  Nah I don't think he goes to usf, he lives aro..."
       ]
      }
     ],
     "prompt_number": 666
    },
    {
     "cell_type": "markdown",
     "metadata": {},
     "source": [
      "Split up the classifications and replace \"spam\" and \"ham\" for binary representations:\n",
      "\n",
      "    ham = 0\n",
      "    spam = 1"
     ]
    },
    {
     "cell_type": "code",
     "collapsed": false,
     "input": [
      "spam_or_ham = collection.ix[:,\"ham/spam\"]\n",
      "sms = collection.ix[:,\"sms\"]"
     ],
     "language": "python",
     "metadata": {},
     "outputs": [],
     "prompt_number": 667
    },
    {
     "cell_type": "code",
     "collapsed": false,
     "input": [
      "spam_binary = lambda x: 1 if x == \"spam\" else 0\n",
      "collection['ham/spam'] = collection['ham/spam'].map(spam_binary)"
     ],
     "language": "python",
     "metadata": {},
     "outputs": [],
     "prompt_number": 668
    },
    {
     "cell_type": "code",
     "collapsed": false,
     "input": [
      "def caps_ratio(sentence):\n",
      "    sentence_length = len(sentence)\n",
      "    cap_count = 0\n",
      "    for char in sentence:\n",
      "        if char.isupper():\n",
      "            cap_count += 1\n",
      "    return cap_count/sentence_length"
     ],
     "language": "python",
     "metadata": {},
     "outputs": [],
     "prompt_number": 669
    },
    {
     "cell_type": "code",
     "collapsed": false,
     "input": [
      "def too_many_caps(sentence):\n",
      "    sentence_length = len(sentence)\n",
      "    cap_count = 0\n",
      "    for char in sentence:\n",
      "        if char.isupper():\n",
      "            cap_count += 1\n",
      "    return cap_count/sentence_length > 0.5"
     ],
     "language": "python",
     "metadata": {},
     "outputs": [],
     "prompt_number": 670
    },
    {
     "cell_type": "code",
     "collapsed": false,
     "input": [
      "def exclaim_ratio(sentence):\n",
      "    sentence_length = len(sentence)\n",
      "    ex_count = 0\n",
      "    for char in sentence:\n",
      "        if char == \"!\":\n",
      "            ex_count += 1\n",
      "    return ex_count/sentence_length"
     ],
     "language": "python",
     "metadata": {},
     "outputs": [],
     "prompt_number": 671
    },
    {
     "cell_type": "heading",
     "level": 3,
     "metadata": {},
     "source": [
      "Judging by the ratio of letters capitalized"
     ]
    },
    {
     "cell_type": "code",
     "collapsed": false,
     "input": [
      "collection['caps_ratio'] = collection['sms'].map(caps_ratio)\n",
      "collection['ex_ratio'] = collection['sms'].map(exclaim_ratio)"
     ],
     "language": "python",
     "metadata": {},
     "outputs": [],
     "prompt_number": 672
    },
    {
     "cell_type": "code",
     "collapsed": true,
     "input": [
      "collection[collection['ham/spam'] == 1].caps_ratio.mean()"
     ],
     "language": "python",
     "metadata": {},
     "outputs": [
      {
       "metadata": {},
       "output_type": "pyout",
       "prompt_number": 673,
       "text": [
        "0.11091319214965832"
       ]
      }
     ],
     "prompt_number": 673
    },
    {
     "cell_type": "code",
     "collapsed": false,
     "input": [
      "collection[collection['ham/spam'] == 0].caps_ratio.mean()"
     ],
     "language": "python",
     "metadata": {},
     "outputs": [
      {
       "metadata": {},
       "output_type": "pyout",
       "prompt_number": 674,
       "text": [
        "0.058464314868120849"
       ]
      }
     ],
     "prompt_number": 674
    },
    {
     "cell_type": "heading",
     "level": 3,
     "metadata": {},
     "source": [
      "Split Collection into Training and Testing Sets"
     ]
    },
    {
     "cell_type": "code",
     "collapsed": false,
     "input": [
      "from sklearn.cross_validation import train_test_split\n",
      "from sklearn.tree import DecisionTreeClassifier, export_graphviz\n",
      "train, test = train_test_split(collection, test_size=0.3)"
     ],
     "language": "python",
     "metadata": {},
     "outputs": [],
     "prompt_number": 675
    },
    {
     "cell_type": "code",
     "collapsed": false,
     "input": [
      "cap_tree = DecisionTreeClassifier()\n",
      "features = np.array(collection.ix[:,2:4])\n",
      "conclusions = np.array(collection.ix[:,0])\n",
      "feat_train, feat_test, conc_train, conc_test = train_test_split(features, conclusions, test_size=0.4, random_state=0)\n",
      "prediction = cap_tree.fit(feat_train,conc_train).predict(feat_test)\n",
      "metrics.accuracy_score(conc_test,prediction)"
     ],
     "language": "python",
     "metadata": {},
     "outputs": [
      {
       "metadata": {},
       "output_type": "pyout",
       "prompt_number": 676,
       "text": [
        "0.92238672050246751"
       ]
      }
     ],
     "prompt_number": 676
    },
    {
     "cell_type": "heading",
     "level": 3,
     "metadata": {},
     "source": [
      "Print Out the Decision Tree"
     ]
    },
    {
     "cell_type": "code",
     "collapsed": false,
     "input": [
      "from sklearn.externals.six import StringIO\n",
      "\"\"\" Requires dot which can be installed from http://www.graphviz.org \"\"\"\n",
      "with open(\"tree.dot\", 'w') as f:\n",
      "    f = export_graphviz(cap_tree, out_file=f)"
     ],
     "language": "python",
     "metadata": {},
     "outputs": [],
     "prompt_number": 689
    },
    {
     "cell_type": "code",
     "collapsed": false,
     "input": [
      "def parse_dot(features_df,filename):\n",
      "    \"\"\" features_df is the dataframe of features used in the decision tree.\n",
      "    Create a dictionary where keys are nparray indices and\n",
      "    values are the dataframe indices. \"\"\"\n",
      "    columns = features_df.columns\n",
      "    col_dict = {}\n",
      "    for n in range(0,len(columns)):\n",
      "        col_dict[\"X[{}]\".format(n)] = columns[n]\n",
      "    \"\"\" Open the .dot file. \"\"\"\n",
      "    with open(filename, 'r') as dotfile:\n",
      "        dot = dotfile.read()\n",
      "    \"\"\" Loop through each key in the dictionary and replace with value. \"\"\"\n",
      "    for key in col_dict:\n",
      "        dot = dot.replace(key,col_dict[key])\n",
      "    with open(filename, 'w') as dotfile:\n",
      "        dotfile.write(dot)\n",
      "    dotfile.close()"
     ],
     "language": "python",
     "metadata": {},
     "outputs": [],
     "prompt_number": 690
    },
    {
     "cell_type": "code",
     "collapsed": false,
     "input": [
      "parse_dot(collection.ix[:,2:4],\"tree.dot\")\n",
      "!dot -Tpdf tree.dot -o tree.pdf"
     ],
     "language": "python",
     "metadata": {},
     "outputs": [
      {
       "output_type": "stream",
       "stream": "stdout",
       "text": [
        "Feb 11 21:02:03 Jasons-MBP dot[20466] <Error>: The function \u2018CGFontGetGlyphPath\u2019 is obsolete and will be removed in an upcoming update. Unfortunately, this application, or a library it uses, is using this obsolete function, and is thereby contributing to an overall degradation of system performance.\r\n",
        "Feb 11 21:02:03 Jasons-MBP dot[20466] <Error>: The function \u2018CGFontGetGlyphPaths\u2019 is obsolete and will be removed in an upcoming update. Unfortunately, this application, or a library it uses, is using this obsolete function, and is thereby contributing to an overall degradation of system performance.\r\n"
       ]
      }
     ],
     "prompt_number": 691
    },
    {
     "cell_type": "markdown",
     "metadata": {},
     "source": []
    },
    {
     "cell_type": "code",
     "collapsed": false,
     "input": [
      "from sklearn.ensemble import RandomForestClassifier\n",
      "from sklearn import metrics\n",
      "classifier = RandomForestClassifier()\n",
      "\n",
      "features = np.array(collection.ix[:,2:4])\n",
      "conclusions = np.array(collection.ix[:,0])\n",
      "feat_train, feat_test, conc_train, conc_test = train_test_split(features, conclusions, test_size=0.4, random_state=0)\n",
      "prediction = classifier.fit(feat_train,conc_train).predict(feat_test)\n",
      "metrics.accuracy_score(conc_test,prediction)\n",
      "\n",
      "#  Does Not Work?\n",
      "# train_x = train[:,2:4]\n",
      "# train_y = train[:,0]\n",
      "# test_x = test[:,2:4]\n",
      "# test_y = test[:,0]\n",
      "# prediction = classifier.fit(train_x,train_y ).predict(test_x)\n",
      "# metrics.accuracy_score(test_y, prediction)"
     ],
     "language": "python",
     "metadata": {},
     "outputs": [
      {
       "metadata": {},
       "output_type": "pyout",
       "prompt_number": 619,
       "text": [
        "0.91745177209510986"
       ]
      }
     ],
     "prompt_number": 619
    },
    {
     "cell_type": "heading",
     "level": 4,
     "metadata": {},
     "source": [
      "Already 90% - 93% accuracy by simply measuring frequency of capital letters and exclamations"
     ]
    },
    {
     "cell_type": "heading",
     "level": 3,
     "metadata": {},
     "source": [
      "Look for sentences that use the first person 'I'."
     ]
    },
    {
     "cell_type": "code",
     "collapsed": false,
     "input": [
      "def contain_I(sentence):\n",
      "    if \" I \" or \" I, \" or \" I. \" in sentence:\n",
      "        return 1\n",
      "    else:\n",
      "        return 0"
     ],
     "language": "python",
     "metadata": {},
     "outputs": [],
     "prompt_number": 620
    },
    {
     "cell_type": "code",
     "collapsed": false,
     "input": [
      "collection['contains_i'] = collection.sms.map(contain_I)"
     ],
     "language": "python",
     "metadata": {},
     "outputs": [],
     "prompt_number": 621
    },
    {
     "cell_type": "code",
     "collapsed": true,
     "input": [
      "from sklearn.ensemble import RandomForestClassifier\n",
      "from sklearn import metrics\n",
      "classifier = RandomForestClassifier()\n",
      "\n",
      "features = np.array(collection.ix[:,2:5])\n",
      "conclusions = np.array(collection.ix[:,0])\n",
      "feat_train, feat_test, conc_train, conc_test = train_test_split(features, conclusions, test_size=0.4, random_state=0)\n",
      "prediction = classifier.fit(feat_train,conc_train).predict(feat_test)\n",
      "metrics.accuracy_score(conc_test,prediction)"
     ],
     "language": "python",
     "metadata": {},
     "outputs": [
      {
       "metadata": {},
       "output_type": "pyout",
       "prompt_number": 622,
       "text": [
        "0.92373261552265595"
       ]
      }
     ],
     "prompt_number": 622
    },
    {
     "cell_type": "markdown",
     "metadata": {},
     "source": [
      "Didn't help much."
     ]
    },
    {
     "cell_type": "heading",
     "level": 3,
     "metadata": {},
     "source": [
      "Look for sentences with telephone numbers"
     ]
    },
    {
     "cell_type": "code",
     "collapsed": false,
     "input": [
      "def contains_telephone(sentence):\n",
      "    if re.search(r'(\\d{0,1})?(\\d{3})-?(\\d{3})-?(\\d{4})', sentence):\n",
      "        return 1\n",
      "    else:\n",
      "        return 0"
     ],
     "language": "python",
     "metadata": {},
     "outputs": [],
     "prompt_number": 623
    },
    {
     "cell_type": "code",
     "collapsed": false,
     "input": [
      "collection['contain_phone'] = collection.sms.map(contains_telephone)"
     ],
     "language": "python",
     "metadata": {},
     "outputs": [],
     "prompt_number": 624
    },
    {
     "cell_type": "code",
     "collapsed": false,
     "input": [
      "from sklearn.ensemble import RandomForestClassifier\n",
      "from sklearn import metrics\n",
      "classifier = RandomForestClassifier()\n",
      "\n",
      "features = np.array(collection.ix[:,2:6])\n",
      "conclusions = np.array(collection.ix[:,0])\n",
      "feat_train, feat_test, conc_train, conc_test = train_test_split(features, conclusions, test_size=0.4, random_state=0)\n",
      "prediction = classifier.fit(feat_train,conc_train).predict(feat_test)\n",
      "metrics.accuracy_score(conc_test,prediction)"
     ],
     "language": "python",
     "metadata": {},
     "outputs": [
      {
       "metadata": {},
       "output_type": "pyout",
       "prompt_number": 625,
       "text": [
        "0.9546882009869897"
       ]
      }
     ],
     "prompt_number": 625
    },
    {
     "cell_type": "markdown",
     "metadata": {},
     "source": [
      "95% is better!"
     ]
    },
    {
     "cell_type": "markdown",
     "metadata": {},
     "source": [
      "Can we generate a spam_word_list from looping through a learning algorithm?"
     ]
    },
    {
     "cell_type": "code",
     "collapsed": false,
     "input": [
      "spam_words = []\n",
      "best_accuracy = 0\n",
      "\n",
      "# for n in range(100):\n",
      "#     length = collection.columns\n",
      "#     features = np.array(collection.ix[:,2:length])\n",
      "#     conclusions = np.array(collection.ix[:,0])\n",
      "#     feat_train, feat_test, conc_train, conc_test = train_test_split(features, conclusion, test_size=0.4, random_state=0)\n",
      "    \n",
      "#     prediction = classifier.fit(feat_train,conc_train).predict(feat_test)\n",
      "#     metrics.accuracy_score(conc_test,prediction)"
     ],
     "language": "python",
     "metadata": {},
     "outputs": [],
     "prompt_number": 626
    },
    {
     "cell_type": "markdown",
     "metadata": {},
     "source": [
      "Maybe Later"
     ]
    },
    {
     "cell_type": "code",
     "collapsed": false,
     "input": [],
     "language": "python",
     "metadata": {},
     "outputs": [],
     "prompt_number": 626
    },
    {
     "cell_type": "markdown",
     "metadata": {},
     "source": [
      "Clustering"
     ]
    },
    {
     "cell_type": "code",
     "collapsed": false,
     "input": [
      "from sklearn.cluster import KMeans"
     ],
     "language": "python",
     "metadata": {},
     "outputs": [],
     "prompt_number": 627
    },
    {
     "cell_type": "code",
     "collapsed": false,
     "input": [
      "features = np.array(collection.ix[:,2:6])\n",
      "conclusions = np.array(collection.ix[:,0])\n",
      "feat_train, feat_test, conc_train, conc_test = train_test_split(features, conclusions, test_size=0.4)\n",
      "\n",
      "kmeans = KMeans(2)\n",
      "kmeans.fit(feat_train,conc_train)\n",
      "clusters = kmeans.predict(feat_test)\n",
      "print(metrics.classification_report(conc_test, clusters))"
     ],
     "language": "python",
     "metadata": {},
     "outputs": [
      {
       "output_type": "stream",
       "stream": "stdout",
       "text": [
        "             precision    recall  f1-score   support\n",
        "\n",
        "          0       0.93      1.00      0.96      1922\n",
        "          1       0.99      0.53      0.69       307\n",
        "\n",
        "avg / total       0.94      0.93      0.93      2229\n",
        "\n"
       ]
      }
     ],
     "prompt_number": 628
    },
    {
     "cell_type": "code",
     "collapsed": false,
     "input": [
      "# Cluster on two dimensions\n",
      "features = np.array(collection.ix[:,2:4])\n",
      "conclusions = np.array(collection.ix[:,0])\n",
      "feat_train, feat_test, conc_train, conc_test = train_test_split(features, conclusions, test_size=0.4)\n",
      "\n",
      "kmeans = KMeans(2)\n",
      "kmeans.fit(feat_train,conc_train)\n",
      "\n",
      "clusters = kmeans.predict(feat_test)\n",
      "colors = [\"#E2415F\", \"#7FAF1B\"]\n",
      "markers = [\"o\", \"v\"]\n",
      "\n",
      "plt.figure(figsize=(10,10))\n",
      "\n",
      "for i in range(conc_test.shape[0]):\n",
      "    c = clusters[i]\n",
      "    color = colors[c]\n",
      "    plt.scatter(feat_test[i,0], feat_test[i, 1], \n",
      "                color=color, marker=markers[conc_test[i]])\n"
     ],
     "language": "python",
     "metadata": {},
     "outputs": [
      {
       "metadata": {},
       "output_type": "display_data",
       "png": "[encoded data removed]",
       "text": [
        "<matplotlib.figure.Figure at 0x11a8ae198>"
       ]
      }
     ],
     "prompt_number": 652
    },
    {
     "cell_type": "markdown",
     "metadata": {},
     "source": [
      "This seems to be working.  I'm assuming the x-axis is the frequency of exclamations and the y-axis is the frequency of capital letters.\n",
      "If we add the other dimensions, we can see their influence by how the clustering is not clearly separated on two axes."
     ]
    },
    {
     "cell_type": "code",
     "collapsed": false,
     "input": [
      "# Cluster on two dimensions\n",
      "features = np.array(collection.ix[:,2:6])\n",
      "conclusions = np.array(collection.ix[:,0])\n",
      "feat_train, feat_test, conc_train, conc_test = train_test_split(features, conclusions, test_size=0.4)\n",
      "\n",
      "kmeans = KMeans(2)\n",
      "kmeans.fit(feat_train,conc_train)\n",
      "\n",
      "clusters = kmeans.predict(feat_test)\n",
      "colors = [\"#E2415F\", \"#7FAF1B\"]\n",
      "markers = [\"o\", \"v\"]\n",
      "\n",
      "plt.figure(figsize=(10,10))\n",
      "\n",
      "for i in range(conc_test.shape[0]):\n",
      "    c = clusters[i]\n",
      "    color = colors[c]\n",
      "    plt.scatter(feat_test[i,0], feat_test[i, 1], \n",
      "                color=color, marker=markers[conc_test[i]])\n",
      "\n"
     ],
     "language": "python",
     "metadata": {},
     "outputs": [
      {
       "metadata": {},
       "output_type": "display_data",
       "png": "[encoded data removed]",
       "text": [
        "<matplotlib.figure.Figure at 0x119876f28>"
       ]
      }
     ],
     "prompt_number": 653
    },
    {
     "cell_type": "code",
     "collapsed": false,
     "input": [],
     "language": "python",
     "metadata": {},
     "outputs": []
    }
   ],
   "metadata": {}
  }
 ]
}